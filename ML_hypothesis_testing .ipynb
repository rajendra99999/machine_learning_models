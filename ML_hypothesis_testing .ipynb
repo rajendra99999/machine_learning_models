{
 "cells": [
  {
   "cell_type": "markdown",
   "id": "nasty-cooperation",
   "metadata": {},
   "source": [
    "# hypothesis testing "
   ]
  },
  {
   "cell_type": "code",
   "execution_count": 1,
   "id": "premium-rally",
   "metadata": {},
   "outputs": [],
   "source": [
    "import pandas as pd\n",
    "import numpy as np\n",
    "import sklearn as sk\n",
    "import scipy.stats as stats\n",
    "import seaborn as sns\n",
    "import matplotlib.pyplot as plt\n",
    "%matplotlib inline"
   ]
  },
  {
   "cell_type": "code",
   "execution_count": 2,
   "id": "operational-livestock",
   "metadata": {},
   "outputs": [],
   "source": [
    "df=pd.read_csv('IMDB_Movie_Database.csv')"
   ]
  },
  {
   "cell_type": "code",
   "execution_count": 68,
   "id": "quick-monitor",
   "metadata": {},
   "outputs": [],
   "source": [
    "df1=np.random.choice(df['Budget'],30)\n",
    "df2=np.random.choice(df['Budget'],30)"
   ]
  },
  {
   "cell_type": "code",
   "execution_count": 69,
   "id": "tired-protein",
   "metadata": {},
   "outputs": [
    {
     "data": {
      "text/plain": [
       "44366923.28832215"
      ]
     },
     "execution_count": 69,
     "metadata": {},
     "output_type": "execute_result"
    }
   ],
   "source": [
    "np.mean(df['Budget'])"
   ]
  },
  {
   "cell_type": "code",
   "execution_count": 70,
   "id": "meaning-kansas",
   "metadata": {},
   "outputs": [],
   "source": [
    "ttest,p_value=stats.ttest_1samp(a=df1,popmean=np.mean(df['Budget']))"
   ]
  },
  {
   "cell_type": "code",
   "execution_count": 71,
   "id": "broke-jefferson",
   "metadata": {},
   "outputs": [
    {
     "name": "stdout",
     "output_type": "stream",
     "text": [
      "accept null hypothesis\n"
     ]
    }
   ],
   "source": [
    "if p_value<=0.05:\n",
    "   print('reject null hypothesis')\n",
    "else:\n",
    "    print('accept null hypothesis')"
   ]
  },
  {
   "cell_type": "code",
   "execution_count": 72,
   "id": "protecting-penalty",
   "metadata": {},
   "outputs": [],
   "source": [
    "ttest,p_vale=stats.ttest_ind(a=df1,b=df2,equal_var=False)"
   ]
  },
  {
   "cell_type": "code",
   "execution_count": 73,
   "id": "adequate-ridge",
   "metadata": {},
   "outputs": [
    {
     "data": {
      "text/plain": [
       "0.2853112441088946"
      ]
     },
     "execution_count": 73,
     "metadata": {},
     "output_type": "execute_result"
    }
   ],
   "source": [
    "p_vale"
   ]
  },
  {
   "cell_type": "code",
   "execution_count": 74,
   "id": "sensitive-exhaust",
   "metadata": {},
   "outputs": [
    {
     "name": "stdout",
     "output_type": "stream",
     "text": [
      "accept null hypothesis\n"
     ]
    }
   ],
   "source": [
    "if p_vale<=0.05:\n",
    "   print('reject null hypothesis')\n",
    "else:\n",
    "    print('accept null hypothesis')"
   ]
  },
  {
   "cell_type": "code",
   "execution_count": 75,
   "id": "developing-hardwood",
   "metadata": {},
   "outputs": [],
   "source": [
    "ttest,p_val=stats.ttest_rel(a=df1,b=df2)"
   ]
  },
  {
   "cell_type": "code",
   "execution_count": 76,
   "id": "legislative-filter",
   "metadata": {},
   "outputs": [
    {
     "data": {
      "text/plain": [
       "0.30452764352641953"
      ]
     },
     "execution_count": 76,
     "metadata": {},
     "output_type": "execute_result"
    }
   ],
   "source": [
    "p_val"
   ]
  },
  {
   "cell_type": "markdown",
   "id": "proof-going",
   "metadata": {},
   "source": [
    "## chi-square test"
   ]
  },
  {
   "cell_type": "code",
   "execution_count": 77,
   "id": "usual-latter",
   "metadata": {},
   "outputs": [],
   "source": [
    "df3=pd.crosstab(df[\"Color/B&W\"],df[\"Genre\"])"
   ]
  },
  {
   "cell_type": "code",
   "execution_count": null,
   "id": "figured-maine",
   "metadata": {},
   "outputs": [],
   "source": []
  },
  {
   "cell_type": "code",
   "execution_count": 78,
   "id": "wrapped-proportion",
   "metadata": {},
   "outputs": [],
   "source": [
    "exp_value=df3.values"
   ]
  },
  {
   "cell_type": "code",
   "execution_count": 79,
   "id": "driving-preview",
   "metadata": {
    "scrolled": true
   },
   "outputs": [],
   "source": [
    "val=stats.chi2_contingency(df3)"
   ]
  },
  {
   "cell_type": "code",
   "execution_count": 80,
   "id": "manufactured-landscape",
   "metadata": {},
   "outputs": [],
   "source": [
    "p_v=val[1]"
   ]
  },
  {
   "cell_type": "code",
   "execution_count": 81,
   "id": "oriental-pilot",
   "metadata": {},
   "outputs": [
    {
     "data": {
      "text/plain": [
       "1.2619888635077966e-05"
      ]
     },
     "execution_count": 81,
     "metadata": {},
     "output_type": "execute_result"
    }
   ],
   "source": [
    "p_v"
   ]
  },
  {
   "cell_type": "code",
   "execution_count": 82,
   "id": "angry-landscape",
   "metadata": {},
   "outputs": [
    {
     "name": "stdout",
     "output_type": "stream",
     "text": [
      "reject null hypothesis\n"
     ]
    }
   ],
   "source": [
    "if p_v<=0.05:\n",
    "   print('reject null hypothesis')\n",
    "else:\n",
    "    print('accept null hypothesis')"
   ]
  },
  {
   "cell_type": "markdown",
   "id": "incorporated-toolbox",
   "metadata": {},
   "source": [
    "## ANOVA"
   ]
  },
  {
   "cell_type": "code",
   "execution_count": 85,
   "id": "inclusive-oasis",
   "metadata": {},
   "outputs": [],
   "source": [
    "df4=df[[\"Genre\",\"Budget\"]]"
   ]
  },
  {
   "cell_type": "code",
   "execution_count": 110,
   "id": "dramatic-property",
   "metadata": {},
   "outputs": [],
   "source": [
    "genre=pd.unique(df4.Genre.values)"
   ]
  },
  {
   "cell_type": "code",
   "execution_count": 111,
   "id": "controlled-colombia",
   "metadata": {},
   "outputs": [
    {
     "data": {
      "text/plain": [
       "array(['Crime', 'Drama', 'Musical', 'Comedy', 'Animation', 'Adventure',\n",
       "       'Biography', 'Action', 'Horror', 'Western', 'Documentary',\n",
       "       'Mystery', 'Fantasy', 'Sci-Fi', 'Family', 'Thriller', 'Romance'],\n",
       "      dtype=object)"
      ]
     },
     "execution_count": 111,
     "metadata": {},
     "output_type": "execute_result"
    }
   ],
   "source": [
    "genre"
   ]
  },
  {
   "cell_type": "code",
   "execution_count": 114,
   "id": "mysterious-henry",
   "metadata": {},
   "outputs": [],
   "source": [
    "an_df={gen:df4['Budget'][df4.Genre==gen] for gen in genre}"
   ]
  },
  {
   "cell_type": "code",
   "execution_count": 117,
   "id": "informational-azerbaijan",
   "metadata": {},
   "outputs": [
    {
     "data": {
      "text/plain": [
       "F_onewayResult(statistic=1.1736110438774578, pvalue=0.27894372826380354)"
      ]
     },
     "execution_count": 117,
     "metadata": {},
     "output_type": "execute_result"
    }
   ],
   "source": [
    "stats.f_oneway(an_df['Crime'],an_df['Drama'])"
   ]
  },
  {
   "cell_type": "code",
   "execution_count": 119,
   "id": "unlike-adelaide",
   "metadata": {},
   "outputs": [],
   "source": [
    "g=pd.unique(df4['Genre'])"
   ]
  },
  {
   "cell_type": "code",
   "execution_count": 120,
   "id": "registered-transcription",
   "metadata": {},
   "outputs": [
    {
     "data": {
      "text/plain": [
       "array(['Crime', 'Drama', 'Musical', 'Comedy', 'Animation', 'Adventure',\n",
       "       'Biography', 'Action', 'Horror', 'Western', 'Documentary',\n",
       "       'Mystery', 'Fantasy', 'Sci-Fi', 'Family', 'Thriller', 'Romance'],\n",
       "      dtype=object)"
      ]
     },
     "execution_count": 120,
     "metadata": {},
     "output_type": "execute_result"
    }
   ],
   "source": [
    "g"
   ]
  },
  {
   "cell_type": "code",
   "execution_count": 121,
   "id": "closed-reputation",
   "metadata": {},
   "outputs": [],
   "source": [
    "an={ge:df4['Budget'][df4['Genre']==ge] for ge in g}"
   ]
  },
  {
   "cell_type": "code",
   "execution_count": 3,
   "id": "tropical-punishment",
   "metadata": {},
   "outputs": [
    {
     "data": {
      "text/html": [
       "<div>\n",
       "<style scoped>\n",
       "    .dataframe tbody tr th:only-of-type {\n",
       "        vertical-align: middle;\n",
       "    }\n",
       "\n",
       "    .dataframe tbody tr th {\n",
       "        vertical-align: top;\n",
       "    }\n",
       "\n",
       "    .dataframe thead th {\n",
       "        text-align: right;\n",
       "    }\n",
       "</style>\n",
       "<table border=\"1\" class=\"dataframe\">\n",
       "  <thead>\n",
       "    <tr style=\"text-align: right;\">\n",
       "      <th></th>\n",
       "      <th>Lead Actor FB Likes</th>\n",
       "      <th>Cast FB Likes</th>\n",
       "      <th>Director FB Likes</th>\n",
       "      <th>Movie FB Likes</th>\n",
       "      <th>IMDb Score (1-10)</th>\n",
       "      <th>Total Reviews</th>\n",
       "      <th>Duration (min)</th>\n",
       "      <th>Gross Revenue</th>\n",
       "      <th>Budget</th>\n",
       "    </tr>\n",
       "  </thead>\n",
       "  <tbody>\n",
       "    <tr>\n",
       "      <th>count</th>\n",
       "      <td>3722.000000</td>\n",
       "      <td>3725.000000</td>\n",
       "      <td>3725.000000</td>\n",
       "      <td>3725.000000</td>\n",
       "      <td>3725.000000</td>\n",
       "      <td>3724.000000</td>\n",
       "      <td>3724.000000</td>\n",
       "      <td>3.725000e+03</td>\n",
       "      <td>3.725000e+03</td>\n",
       "    </tr>\n",
       "    <tr>\n",
       "      <th>mean</th>\n",
       "      <td>7464.728103</td>\n",
       "      <td>11050.561611</td>\n",
       "      <td>793.286443</td>\n",
       "      <td>8614.911678</td>\n",
       "      <td>6.463732</td>\n",
       "      <td>159.881042</td>\n",
       "      <td>109.774705</td>\n",
       "      <td>4.972798e+07</td>\n",
       "      <td>4.436692e+07</td>\n",
       "    </tr>\n",
       "    <tr>\n",
       "      <th>std</th>\n",
       "      <td>15532.581521</td>\n",
       "      <td>18958.306272</td>\n",
       "      <td>3055.021574</td>\n",
       "      <td>20792.133048</td>\n",
       "      <td>1.058898</td>\n",
       "      <td>122.419180</td>\n",
       "      <td>22.849153</td>\n",
       "      <td>6.818220e+07</td>\n",
       "      <td>2.268511e+08</td>\n",
       "    </tr>\n",
       "    <tr>\n",
       "      <th>min</th>\n",
       "      <td>0.000000</td>\n",
       "      <td>0.000000</td>\n",
       "      <td>0.000000</td>\n",
       "      <td>0.000000</td>\n",
       "      <td>1.600000</td>\n",
       "      <td>1.000000</td>\n",
       "      <td>34.000000</td>\n",
       "      <td>1.620000e+02</td>\n",
       "      <td>2.180000e+02</td>\n",
       "    </tr>\n",
       "    <tr>\n",
       "      <th>25%</th>\n",
       "      <td>713.000000</td>\n",
       "      <td>1784.000000</td>\n",
       "      <td>10.000000</td>\n",
       "      <td>0.000000</td>\n",
       "      <td>5.900000</td>\n",
       "      <td>71.000000</td>\n",
       "      <td>95.000000</td>\n",
       "      <td>6.409206e+06</td>\n",
       "      <td>9.000000e+06</td>\n",
       "    </tr>\n",
       "    <tr>\n",
       "      <th>50%</th>\n",
       "      <td>1000.000000</td>\n",
       "      <td>3785.000000</td>\n",
       "      <td>58.000000</td>\n",
       "      <td>171.000000</td>\n",
       "      <td>6.600000</td>\n",
       "      <td>131.000000</td>\n",
       "      <td>105.000000</td>\n",
       "      <td>2.683000e+07</td>\n",
       "      <td>2.350000e+07</td>\n",
       "    </tr>\n",
       "    <tr>\n",
       "      <th>75%</th>\n",
       "      <td>12000.000000</td>\n",
       "      <td>15716.000000</td>\n",
       "      <td>221.000000</td>\n",
       "      <td>10000.000000</td>\n",
       "      <td>7.200000</td>\n",
       "      <td>217.000000</td>\n",
       "      <td>120.000000</td>\n",
       "      <td>6.445932e+07</td>\n",
       "      <td>5.000000e+07</td>\n",
       "    </tr>\n",
       "    <tr>\n",
       "      <th>max</th>\n",
       "      <td>640000.000000</td>\n",
       "      <td>656730.000000</td>\n",
       "      <td>23000.000000</td>\n",
       "      <td>349000.000000</td>\n",
       "      <td>9.300000</td>\n",
       "      <td>813.000000</td>\n",
       "      <td>330.000000</td>\n",
       "      <td>7.605058e+08</td>\n",
       "      <td>1.221550e+10</td>\n",
       "    </tr>\n",
       "  </tbody>\n",
       "</table>\n",
       "</div>"
      ],
      "text/plain": [
       "       Lead Actor FB Likes  Cast FB Likes  Director FB Likes  Movie FB Likes  \\\n",
       "count          3722.000000    3725.000000        3725.000000     3725.000000   \n",
       "mean           7464.728103   11050.561611         793.286443     8614.911678   \n",
       "std           15532.581521   18958.306272        3055.021574    20792.133048   \n",
       "min               0.000000       0.000000           0.000000        0.000000   \n",
       "25%             713.000000    1784.000000          10.000000        0.000000   \n",
       "50%            1000.000000    3785.000000          58.000000      171.000000   \n",
       "75%           12000.000000   15716.000000         221.000000    10000.000000   \n",
       "max          640000.000000  656730.000000       23000.000000   349000.000000   \n",
       "\n",
       "       IMDb Score (1-10)  Total Reviews  Duration (min)  Gross Revenue  \\\n",
       "count        3725.000000    3724.000000     3724.000000   3.725000e+03   \n",
       "mean            6.463732     159.881042      109.774705   4.972798e+07   \n",
       "std             1.058898     122.419180       22.849153   6.818220e+07   \n",
       "min             1.600000       1.000000       34.000000   1.620000e+02   \n",
       "25%             5.900000      71.000000       95.000000   6.409206e+06   \n",
       "50%             6.600000     131.000000      105.000000   2.683000e+07   \n",
       "75%             7.200000     217.000000      120.000000   6.445932e+07   \n",
       "max             9.300000     813.000000      330.000000   7.605058e+08   \n",
       "\n",
       "             Budget  \n",
       "count  3.725000e+03  \n",
       "mean   4.436692e+07  \n",
       "std    2.268511e+08  \n",
       "min    2.180000e+02  \n",
       "25%    9.000000e+06  \n",
       "50%    2.350000e+07  \n",
       "75%    5.000000e+07  \n",
       "max    1.221550e+10  "
      ]
     },
     "execution_count": 3,
     "metadata": {},
     "output_type": "execute_result"
    }
   ],
   "source": [
    "df.describe()"
   ]
  },
  {
   "cell_type": "code",
   "execution_count": 7,
   "id": "elect-blame",
   "metadata": {},
   "outputs": [
    {
     "data": {
      "text/plain": [
       "23500000.0"
      ]
     },
     "execution_count": 7,
     "metadata": {},
     "output_type": "execute_result"
    }
   ],
   "source": [
    "np.median(df['Budget'])"
   ]
  },
  {
   "cell_type": "code",
   "execution_count": 9,
   "id": "subtle-scope",
   "metadata": {},
   "outputs": [
    {
     "data": {
      "text/plain": [
       "5.144759244717508e+16"
      ]
     },
     "execution_count": 9,
     "metadata": {},
     "output_type": "execute_result"
    }
   ],
   "source": [
    "np.var(df['Budget'])"
   ]
  },
  {
   "cell_type": "code",
   "execution_count": null,
   "id": "yellow-durham",
   "metadata": {},
   "outputs": [],
   "source": []
  }
 ],
 "metadata": {
  "kernelspec": {
   "display_name": "Python 3",
   "language": "python",
   "name": "python3"
  },
  "language_info": {
   "codemirror_mode": {
    "name": "ipython",
    "version": 3
   },
   "file_extension": ".py",
   "mimetype": "text/x-python",
   "name": "python",
   "nbconvert_exporter": "python",
   "pygments_lexer": "ipython3",
   "version": "3.9.2"
  }
 },
 "nbformat": 4,
 "nbformat_minor": 5
}
